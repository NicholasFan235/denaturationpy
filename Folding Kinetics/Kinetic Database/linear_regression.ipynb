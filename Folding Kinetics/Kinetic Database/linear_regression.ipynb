{
 "cells": [
  {
   "cell_type": "code",
   "execution_count": 33,
   "metadata": {},
   "outputs": [],
   "source": [
    "import Bio.PDB as bpdb\n",
    "import pylab\n",
    "import numpy as np\n",
    "import pandas as pd\n",
    "import scipy.sparse"
   ]
  },
  {
   "cell_type": "code",
   "execution_count": 55,
   "metadata": {},
   "outputs": [
    {
     "name": "stdout",
     "output_type": "stream",
     "text": [
      "108 samples\n"
     ]
    }
   ],
   "source": [
    "kinetic_data = pd.read_pickle('kinetic_data_co.pkl')\n",
    "#kinetic_data = kinetic_data[kinetic_data[\"class\"] == 'β']\n",
    "features = ['kinetic_state', 'class', 'pdb_length', 'ACO', 'LRO', 'RCO', 'TCD', 'SRO', 'NonLocalCO', 'LocalCO', 'CC']\n",
    "kinetic_data['kinetic_state'] = kinetic_data['kinetic_state'] == 'Multi'\n",
    "kinetic_data['class'] = kinetic_data['class'] == 'β'\n",
    "X = kinetic_data[features].to_numpy()\n",
    "Y_fold = kinetic_data[['log_ku']].to_numpy()\n",
    "assert X.shape[1] == len(features)\n",
    "assert Y_fold.shape[1] == 1\n",
    "assert X.shape[0] == Y_fold.shape[0]\n",
    "print(f'{X.shape[0]} samples')"
   ]
  },
  {
   "cell_type": "code",
   "execution_count": 56,
   "metadata": {},
   "outputs": [],
   "source": [
    "from sklearn.model_selection import train_test_split\n",
    "X_test, X_train, Y_test, Y_train = train_test_split(\n",
    "    X, Y_fold, test_size=0.2, random_state=2)\n",
    "Y_test = Y_test.reshape((-1)); Y_train = Y_train.reshape((-1))"
   ]
  },
  {
   "cell_type": "code",
   "execution_count": 66,
   "metadata": {},
   "outputs": [
    {
     "data": {
      "text/plain": [
       "0.5840628828531209"
      ]
     },
     "execution_count": 66,
     "metadata": {},
     "output_type": "execute_result"
    }
   ],
   "source": [
    "from sklearn.ensemble import RandomForestRegressor\n",
    "from sklearn.metrics import r2_score\n",
    "reg = RandomForestRegressor(random_state=1).fit(X_train, Y_train)\n",
    "r2_score(Y_test, reg.predict(X_test))"
   ]
  },
  {
   "cell_type": "code",
   "execution_count": 51,
   "metadata": {},
   "outputs": [
    {
     "data": {
      "text/plain": [
       "0.7425341063694677"
      ]
     },
     "execution_count": 51,
     "metadata": {},
     "output_type": "execute_result"
    }
   ],
   "source": [
    "from sklearn.linear_model import LinearRegression\n",
    "reg = LinearRegression().fit(X, Y_fold)\n",
    "reg.score(X, Y_fold)"
   ]
  }
 ],
 "metadata": {
  "interpreter": {
   "hash": "31f2aee4e71d21fbe5cf8b01ff0e069b9275f58929596ceb00d14d90e3e16cd6"
  },
  "kernelspec": {
   "display_name": "Python 3.8.10 64-bit",
   "language": "python",
   "name": "python3"
  },
  "language_info": {
   "codemirror_mode": {
    "name": "ipython",
    "version": 3
   },
   "file_extension": ".py",
   "mimetype": "text/x-python",
   "name": "python",
   "nbconvert_exporter": "python",
   "pygments_lexer": "ipython3",
   "version": "3.8.10"
  },
  "orig_nbformat": 4
 },
 "nbformat": 4,
 "nbformat_minor": 2
}
