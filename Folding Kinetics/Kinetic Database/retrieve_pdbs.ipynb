{
 "cells": [
  {
   "cell_type": "code",
   "execution_count": 22,
   "metadata": {},
   "outputs": [],
   "source": [
    "import urllib\n",
    "import pandas as pd\n",
    "import numpy as np\n",
    "import glob\n",
    "import os\n",
    "import sys\n",
    "import re\n",
    "import Bio.PDB as bpdb"
   ]
  },
  {
   "cell_type": "code",
   "execution_count": 23,
   "metadata": {},
   "outputs": [
    {
     "data": {
      "text/html": [
       "<div>\n",
       "<style scoped>\n",
       "    .dataframe tbody tr th:only-of-type {\n",
       "        vertical-align: middle;\n",
       "    }\n",
       "\n",
       "    .dataframe tbody tr th {\n",
       "        vertical-align: top;\n",
       "    }\n",
       "\n",
       "    .dataframe thead th {\n",
       "        text-align: right;\n",
       "    }\n",
       "</style>\n",
       "<table border=\"1\" class=\"dataframe\">\n",
       "  <thead>\n",
       "    <tr style=\"text-align: right;\">\n",
       "      <th></th>\n",
       "      <th>name</th>\n",
       "      <th>pdb</th>\n",
       "      <th>kinetic_state</th>\n",
       "      <th>class</th>\n",
       "      <th>pdb_length</th>\n",
       "      <th>midpoint</th>\n",
       "      <th>log_kf</th>\n",
       "      <th>log_ku</th>\n",
       "      <th>deltaG</th>\n",
       "      <th>source</th>\n",
       "    </tr>\n",
       "  </thead>\n",
       "  <tbody>\n",
       "    <tr>\n",
       "      <th>0</th>\n",
       "      <td>Colicin E7 immunity protein</td>\n",
       "      <td>1AYI</td>\n",
       "      <td>Two</td>\n",
       "      <td>α</td>\n",
       "      <td>85</td>\n",
       "      <td>1.22</td>\n",
       "      <td>3.13</td>\n",
       "      <td>1.00</td>\n",
       "      <td>-2.90</td>\n",
       "      <td>Maxwell KL, Wildes D, Zarrine-Afsar A, De Los ...</td>\n",
       "    </tr>\n",
       "    <tr>\n",
       "      <th>1</th>\n",
       "      <td>Telomeric protein DNA-binding domain, human</td>\n",
       "      <td>1BA5</td>\n",
       "      <td>Two</td>\n",
       "      <td>α</td>\n",
       "      <td>49</td>\n",
       "      <td>0.69</td>\n",
       "      <td>2.56</td>\n",
       "      <td>0.52</td>\n",
       "      <td>-2.78</td>\n",
       "      <td>Garbuzynskiy SO, Ivankov DN, Bogatyreva NS, Fi...</td>\n",
       "    </tr>\n",
       "    <tr>\n",
       "      <th>2</th>\n",
       "      <td>Immunoglobulin binding B-domain</td>\n",
       "      <td>1BDD(2-59)</td>\n",
       "      <td>Two</td>\n",
       "      <td>α</td>\n",
       "      <td>58</td>\n",
       "      <td>2.52</td>\n",
       "      <td>5.08</td>\n",
       "      <td>1.82</td>\n",
       "      <td>-4.44</td>\n",
       "      <td>Garbuzynskiy SO, Ivankov DN, Bogatyreva NS, Fi...</td>\n",
       "    </tr>\n",
       "    <tr>\n",
       "      <th>3</th>\n",
       "      <td>16th domain of brain α-spectrin</td>\n",
       "      <td>1CUN(7-112)</td>\n",
       "      <td>Two</td>\n",
       "      <td>α</td>\n",
       "      <td>106</td>\n",
       "      <td>-0.87</td>\n",
       "      <td>2.08</td>\n",
       "      <td>-2.61</td>\n",
       "      <td>-6.40</td>\n",
       "      <td>Garbuzynskiy SO, Ivankov DN, Bogatyreva NS, Fi...</td>\n",
       "    </tr>\n",
       "    <tr>\n",
       "      <th>4</th>\n",
       "      <td>17th domain of brain α-spectrin</td>\n",
       "      <td>1CUN(113-219)</td>\n",
       "      <td>Two</td>\n",
       "      <td>α</td>\n",
       "      <td>107</td>\n",
       "      <td>-1.48</td>\n",
       "      <td>1.48</td>\n",
       "      <td>-3.39</td>\n",
       "      <td>-6.64</td>\n",
       "      <td>Garbuzynskiy SO, Ivankov DN, Bogatyreva NS, Fi...</td>\n",
       "    </tr>\n",
       "  </tbody>\n",
       "</table>\n",
       "</div>"
      ],
      "text/plain": [
       "                                          name            pdb kinetic_state  \\\n",
       "0                  Colicin E7 immunity protein           1AYI           Two   \n",
       "1  Telomeric protein DNA-binding domain, human           1BA5           Two   \n",
       "2              Immunoglobulin binding B-domain     1BDD(2-59)           Two   \n",
       "3              16th domain of brain α-spectrin    1CUN(7-112)           Two   \n",
       "4              17th domain of brain α-spectrin  1CUN(113-219)           Two   \n",
       "\n",
       "  class pdb_length midpoint log_kf log_ku deltaG  \\\n",
       "0     α         85     1.22   3.13   1.00  -2.90   \n",
       "1     α         49     0.69   2.56   0.52  -2.78   \n",
       "2     α         58     2.52   5.08   1.82  -4.44   \n",
       "3     α        106    -0.87   2.08  -2.61  -6.40   \n",
       "4     α        107    -1.48   1.48  -3.39  -6.64   \n",
       "\n",
       "                                              source  \n",
       "0  Maxwell KL, Wildes D, Zarrine-Afsar A, De Los ...  \n",
       "1  Garbuzynskiy SO, Ivankov DN, Bogatyreva NS, Fi...  \n",
       "2  Garbuzynskiy SO, Ivankov DN, Bogatyreva NS, Fi...  \n",
       "3  Garbuzynskiy SO, Ivankov DN, Bogatyreva NS, Fi...  \n",
       "4  Garbuzynskiy SO, Ivankov DN, Bogatyreva NS, Fi...  "
      ]
     },
     "execution_count": 23,
     "metadata": {},
     "output_type": "execute_result"
    }
   ],
   "source": [
    "kinetic_data = pd.read_pickle('kinetic_data.pkl')\n",
    "kinetic_data.head()"
   ]
  },
  {
   "cell_type": "code",
   "execution_count": 24,
   "metadata": {},
   "outputs": [],
   "source": [
    "unique_pdbs = set()\n",
    "for index, entry in kinetic_data.iterrows():\n",
    "    unique_pdbs.add(entry.pdb[:4])"
   ]
  },
  {
   "cell_type": "code",
   "execution_count": 25,
   "metadata": {},
   "outputs": [],
   "source": [
    "def download_pdb(pdbcode, datadir, downloadurl=\"https://files.rcsb.org/download/\"):\n",
    "    \"\"\"\n",
    "    Downloads a PDB file from the Internet and saves it in a data directory.\n",
    "    :param pdbcode: The standard PDB ID e.g. '3ICB' or '3icb'\n",
    "    :param datadir: The directory where the downloaded file will be saved\n",
    "    :param downloadurl: The base PDB download URL, cf.\n",
    "        `https://www.rcsb.org/pages/download/http#structures` for details\n",
    "    :return: the full path to the downloaded PDB file or None if something went wrong\n",
    "    \"\"\"\n",
    "    pdbfn = pdbcode + \".pdb\"\n",
    "    url = downloadurl + pdbfn\n",
    "    outfnm = os.path.join(datadir, pdbfn)\n",
    "    try:\n",
    "        urllib.request.urlretrieve(url, outfnm)\n",
    "        return outfnm\n",
    "    except Exception as err:\n",
    "        print(str(err), file=sys.stderr)\n",
    "        return None\n"
   ]
  },
  {
   "cell_type": "code",
   "execution_count": 26,
   "metadata": {},
   "outputs": [],
   "source": [
    "re_retrieve = False\n",
    "existing = {os.path.basename(i).split('.')[0] for i in glob.glob('pdb_files/*.pdb')}\n",
    "for pdb in unique_pdbs:\n",
    "    if not re_retrieve and pdb in existing:\n",
    "        continue\n",
    "    download_pdb(pdb, 'pdb_files_raw')"
   ]
  },
  {
   "cell_type": "code",
   "execution_count": 27,
   "metadata": {},
   "outputs": [],
   "source": [
    "class ResSelect(bpdb.Select):\n",
    "    def __init__(self, begin, end):\n",
    "        self.begin = int(begin)\n",
    "        self.end = int(end)\n",
    "\n",
    "    def accept_residue(self, res):\n",
    "        return res.id[1] >= self.begin and res.id[1] <= self.end and res.parent.id == 'A'\n",
    "\n",
    "class ChainSelect(bpdb.Select):\n",
    "    def __init__(self, chain):\n",
    "        self.chain = chain\n",
    "    \n",
    "    def accept_residue(self, res):\n",
    "        return res.parent.id == self.chain"
   ]
  },
  {
   "cell_type": "code",
   "execution_count": 29,
   "metadata": {},
   "outputs": [
    {
     "name": "stdout",
     "output_type": "stream",
     "text": [
      "1BDD(2-59)\n",
      "1CUN(7-112)\n",
      "1CUN(113-219)\n"
     ]
    },
    {
     "name": "stderr",
     "output_type": "stream",
     "text": [
      "/home/sabsr3/.local/lib/python3.8/site-packages/Bio/PDB/StructureBuilder.py:89: PDBConstructionWarning: WARNING: Chain A is discontinuous at line 5528.\n",
      "  warnings.warn(\n",
      "/home/sabsr3/.local/lib/python3.8/site-packages/Bio/PDB/StructureBuilder.py:89: PDBConstructionWarning: WARNING: Chain B is discontinuous at line 5768.\n",
      "  warnings.warn(\n",
      "/home/sabsr3/.local/lib/python3.8/site-packages/Bio/PDB/StructureBuilder.py:89: PDBConstructionWarning: WARNING: Chain C is discontinuous at line 6007.\n",
      "  warnings.warn(\n",
      "/home/sabsr3/.local/lib/python3.8/site-packages/Bio/PDB/StructureBuilder.py:89: PDBConstructionWarning: WARNING: Chain A is discontinuous at line 5528.\n",
      "  warnings.warn(\n",
      "/home/sabsr3/.local/lib/python3.8/site-packages/Bio/PDB/StructureBuilder.py:89: PDBConstructionWarning: WARNING: Chain B is discontinuous at line 5768.\n",
      "  warnings.warn(\n",
      "/home/sabsr3/.local/lib/python3.8/site-packages/Bio/PDB/StructureBuilder.py:89: PDBConstructionWarning: WARNING: Chain C is discontinuous at line 6007.\n",
      "  warnings.warn(\n"
     ]
    },
    {
     "name": "stdout",
     "output_type": "stream",
     "text": [
      "1E41(93-192)\n",
      "1L8W(29-335)\n",
      "1LMB(Chain 3)\n",
      "1K85(559-644)\n"
     ]
    },
    {
     "name": "stderr",
     "output_type": "stream",
     "text": [
      "/home/sabsr3/.local/lib/python3.8/site-packages/Bio/PDB/StructureBuilder.py:89: PDBConstructionWarning: WARNING: Chain A is discontinuous at line 8893.\n",
      "  warnings.warn(\n",
      "/home/sabsr3/.local/lib/python3.8/site-packages/Bio/PDB/StructureBuilder.py:89: PDBConstructionWarning: WARNING: Chain B is discontinuous at line 9168.\n",
      "  warnings.warn(\n",
      "/home/sabsr3/.local/lib/python3.8/site-packages/Bio/PDB/StructureBuilder.py:89: PDBConstructionWarning: WARNING: Chain C is discontinuous at line 9418.\n",
      "  warnings.warn(\n",
      "/home/sabsr3/.local/lib/python3.8/site-packages/Bio/PDB/StructureBuilder.py:89: PDBConstructionWarning: WARNING: Chain D is discontinuous at line 9674.\n",
      "  warnings.warn(\n",
      "/home/sabsr3/.local/lib/python3.8/site-packages/Bio/PDB/StructureBuilder.py:89: PDBConstructionWarning: WARNING: Chain 1 is discontinuous at line 2617.\n",
      "  warnings.warn(\n",
      "/home/sabsr3/.local/lib/python3.8/site-packages/Bio/PDB/StructureBuilder.py:89: PDBConstructionWarning: WARNING: Chain 2 is discontinuous at line 2653.\n",
      "  warnings.warn(\n",
      "/home/sabsr3/.local/lib/python3.8/site-packages/Bio/PDB/StructureBuilder.py:89: PDBConstructionWarning: WARNING: Chain 3 is discontinuous at line 2680.\n",
      "  warnings.warn(\n",
      "/home/sabsr3/.local/lib/python3.8/site-packages/Bio/PDB/StructureBuilder.py:89: PDBConstructionWarning: WARNING: Chain 4 is discontinuous at line 2728.\n",
      "  warnings.warn(\n"
     ]
    },
    {
     "name": "stdout",
     "output_type": "stream",
     "text": [
      "1K9Q(5-44)\n",
      "1M9S(391-466)\n",
      "1PGB(41-56)\n",
      "1PIN(6-39)\n",
      "1QTU(1-109)\n",
      "1SHF(Chain A)\n",
      "2VKN(Chain A)\n",
      "1DIV(58-149)\n",
      "1DIV(1-56)\n",
      "1LOP(Chain A)\n"
     ]
    },
    {
     "name": "stderr",
     "output_type": "stream",
     "text": [
      "/home/sabsr3/.local/lib/python3.8/site-packages/Bio/PDB/StructureBuilder.py:89: PDBConstructionWarning: WARNING: Chain A is discontinuous at line 1187.\n",
      "  warnings.warn(\n",
      "/home/sabsr3/.local/lib/python3.8/site-packages/Bio/PDB/StructureBuilder.py:89: PDBConstructionWarning: WARNING: Chain C is discontinuous at line 1192.\n",
      "  warnings.warn(\n",
      "/home/sabsr3/.local/lib/python3.8/site-packages/Bio/PDB/StructureBuilder.py:89: PDBConstructionWarning: WARNING: Chain A is discontinuous at line 1202.\n",
      "  warnings.warn(\n",
      "/home/sabsr3/.local/lib/python3.8/site-packages/Bio/PDB/StructureBuilder.py:89: PDBConstructionWarning: WARNING: Chain C is discontinuous at line 1236.\n",
      "  warnings.warn(\n",
      "/home/sabsr3/.local/lib/python3.8/site-packages/Bio/PDB/StructureBuilder.py:89: PDBConstructionWarning: WARNING: Chain A is discontinuous at line 1977.\n",
      "  warnings.warn(\n",
      "/home/sabsr3/.local/lib/python3.8/site-packages/Bio/PDB/StructureBuilder.py:89: PDBConstructionWarning: WARNING: Chain B is discontinuous at line 2105.\n",
      "  warnings.warn(\n"
     ]
    },
    {
     "name": "stdout",
     "output_type": "stream",
     "text": [
      "1PRS(91-173)\n",
      "1PRS(1-90)\n",
      "1SPR(Chain C)\n",
      "1URN(Chain A)\n",
      "2PTL(18-77)\n"
     ]
    },
    {
     "name": "stderr",
     "output_type": "stream",
     "text": [
      "/home/sabsr3/.local/lib/python3.8/site-packages/Bio/PDB/StructureBuilder.py:89: PDBConstructionWarning: WARNING: Chain A is discontinuous at line 4675.\n",
      "  warnings.warn(\n",
      "/home/sabsr3/.local/lib/python3.8/site-packages/Bio/PDB/StructureBuilder.py:89: PDBConstructionWarning: WARNING: Chain B is discontinuous at line 4782.\n",
      "  warnings.warn(\n",
      "/home/sabsr3/.local/lib/python3.8/site-packages/Bio/PDB/StructureBuilder.py:89: PDBConstructionWarning: WARNING: Chain C is discontinuous at line 4836.\n",
      "  warnings.warn(\n",
      "/home/sabsr3/.local/lib/python3.8/site-packages/Bio/PDB/StructureBuilder.py:89: PDBConstructionWarning: WARNING: Chain D is discontinuous at line 4986.\n",
      "  warnings.warn(\n",
      "/home/sabsr3/.local/lib/python3.8/site-packages/Bio/PDB/StructureBuilder.py:89: PDBConstructionWarning: WARNING: Chain B is discontinuous at line 4057.\n",
      "  warnings.warn(\n",
      "/home/sabsr3/.local/lib/python3.8/site-packages/Bio/PDB/StructureBuilder.py:89: PDBConstructionWarning: WARNING: Chain C is discontinuous at line 4070.\n",
      "  warnings.warn(\n",
      "/home/sabsr3/.local/lib/python3.8/site-packages/Bio/PDB/StructureBuilder.py:89: PDBConstructionWarning: WARNING: Chain P is discontinuous at line 4082.\n",
      "  warnings.warn(\n",
      "/home/sabsr3/.local/lib/python3.8/site-packages/Bio/PDB/StructureBuilder.py:89: PDBConstructionWarning: WARNING: Chain Q is discontinuous at line 4137.\n",
      "  warnings.warn(\n",
      "/home/sabsr3/.local/lib/python3.8/site-packages/Bio/PDB/StructureBuilder.py:89: PDBConstructionWarning: WARNING: Chain R is discontinuous at line 4197.\n",
      "  warnings.warn(\n",
      "/home/sabsr3/.local/lib/python3.8/site-packages/Bio/PDB/StructureBuilder.py:89: PDBConstructionWarning: WARNING: Chain A is discontinuous at line 4219.\n",
      "  warnings.warn(\n",
      "/home/sabsr3/.local/lib/python3.8/site-packages/Bio/PDB/StructureBuilder.py:89: PDBConstructionWarning: WARNING: Chain B is discontinuous at line 4301.\n",
      "  warnings.warn(\n",
      "/home/sabsr3/.local/lib/python3.8/site-packages/Bio/PDB/StructureBuilder.py:89: PDBConstructionWarning: WARNING: Chain C is discontinuous at line 4403.\n",
      "  warnings.warn(\n"
     ]
    },
    {
     "name": "stdout",
     "output_type": "stream",
     "text": [
      "1AU7(103-160)\n",
      "2A5E(9-156)\n",
      "1JQZ(Chain A)\n",
      "1OPA(Chain A)\n"
     ]
    },
    {
     "name": "stderr",
     "output_type": "stream",
     "text": [
      "/home/sabsr3/.local/lib/python3.8/site-packages/Bio/PDB/StructureBuilder.py:89: PDBConstructionWarning: WARNING: Chain C is discontinuous at line 4227.\n",
      "  warnings.warn(\n",
      "/home/sabsr3/.local/lib/python3.8/site-packages/Bio/PDB/StructureBuilder.py:89: PDBConstructionWarning: WARNING: Chain D is discontinuous at line 4299.\n",
      "  warnings.warn(\n",
      "/home/sabsr3/.local/lib/python3.8/site-packages/Bio/PDB/StructureBuilder.py:89: PDBConstructionWarning: WARNING: Chain A is discontinuous at line 4419.\n",
      "  warnings.warn(\n",
      "/home/sabsr3/.local/lib/python3.8/site-packages/Bio/PDB/StructureBuilder.py:89: PDBConstructionWarning: WARNING: Chain B is discontinuous at line 4620.\n",
      "  warnings.warn(\n",
      "/home/sabsr3/.local/lib/python3.8/site-packages/Bio/PDB/StructureBuilder.py:89: PDBConstructionWarning: WARNING: Chain A is discontinuous at line 2704.\n",
      "  warnings.warn(\n",
      "/home/sabsr3/.local/lib/python3.8/site-packages/Bio/PDB/StructureBuilder.py:89: PDBConstructionWarning: WARNING: Chain B is discontinuous at line 2710.\n",
      "  warnings.warn(\n",
      "/home/sabsr3/.local/lib/python3.8/site-packages/Bio/PDB/StructureBuilder.py:89: PDBConstructionWarning: WARNING: Chain A is discontinuous at line 2716.\n",
      "  warnings.warn(\n",
      "/home/sabsr3/.local/lib/python3.8/site-packages/Bio/PDB/StructureBuilder.py:89: PDBConstructionWarning: WARNING: Chain B is discontinuous at line 2828.\n",
      "  warnings.warn(\n",
      "/home/sabsr3/.local/lib/python3.8/site-packages/Bio/PDB/StructureBuilder.py:89: PDBConstructionWarning: WARNING: Chain A is discontinuous at line 2505.\n",
      "  warnings.warn(\n",
      "/home/sabsr3/.local/lib/python3.8/site-packages/Bio/PDB/StructureBuilder.py:89: PDBConstructionWarning: WARNING: Chain B is discontinuous at line 2549.\n",
      "  warnings.warn(\n",
      "/home/sabsr3/.local/lib/python3.8/site-packages/Bio/PDB/StructureBuilder.py:89: PDBConstructionWarning: WARNING: Chain C is discontinuous at line 1347.\n",
      "  warnings.warn(\n",
      "/home/sabsr3/.local/lib/python3.8/site-packages/Bio/PDB/StructureBuilder.py:89: PDBConstructionWarning: WARNING: Chain A is discontinuous at line 1360.\n",
      "  warnings.warn(\n"
     ]
    },
    {
     "name": "stdout",
     "output_type": "stream",
     "text": [
      "1RNB(Chain A)\n",
      "1AON(191-345)\n"
     ]
    },
    {
     "name": "stderr",
     "output_type": "stream",
     "text": [
      "/home/sabsr3/.local/lib/python3.8/site-packages/Bio/PDB/StructureBuilder.py:89: PDBConstructionWarning: WARNING: Chain A is discontinuous at line 60909.\n",
      "  warnings.warn(\n",
      "/home/sabsr3/.local/lib/python3.8/site-packages/Bio/PDB/StructureBuilder.py:89: PDBConstructionWarning: WARNING: Chain B is discontinuous at line 60910.\n",
      "  warnings.warn(\n",
      "/home/sabsr3/.local/lib/python3.8/site-packages/Bio/PDB/StructureBuilder.py:89: PDBConstructionWarning: WARNING: Chain C is discontinuous at line 60911.\n",
      "  warnings.warn(\n",
      "/home/sabsr3/.local/lib/python3.8/site-packages/Bio/PDB/StructureBuilder.py:89: PDBConstructionWarning: WARNING: Chain D is discontinuous at line 60912.\n",
      "  warnings.warn(\n",
      "/home/sabsr3/.local/lib/python3.8/site-packages/Bio/PDB/StructureBuilder.py:89: PDBConstructionWarning: WARNING: Chain E is discontinuous at line 60913.\n",
      "  warnings.warn(\n",
      "/home/sabsr3/.local/lib/python3.8/site-packages/Bio/PDB/StructureBuilder.py:89: PDBConstructionWarning: WARNING: Chain F is discontinuous at line 60914.\n",
      "  warnings.warn(\n",
      "/home/sabsr3/.local/lib/python3.8/site-packages/Bio/PDB/StructureBuilder.py:89: PDBConstructionWarning: WARNING: Chain G is discontinuous at line 60915.\n",
      "  warnings.warn(\n",
      "/home/sabsr3/.local/lib/python3.8/site-packages/Bio/PDB/StructureBuilder.py:89: PDBConstructionWarning: WARNING: Chain A is discontinuous at line 60916.\n",
      "  warnings.warn(\n",
      "/home/sabsr3/.local/lib/python3.8/site-packages/Bio/PDB/StructureBuilder.py:89: PDBConstructionWarning: WARNING: Chain B is discontinuous at line 60943.\n",
      "  warnings.warn(\n",
      "/home/sabsr3/.local/lib/python3.8/site-packages/Bio/PDB/StructureBuilder.py:89: PDBConstructionWarning: WARNING: Chain C is discontinuous at line 60970.\n",
      "  warnings.warn(\n",
      "/home/sabsr3/.local/lib/python3.8/site-packages/Bio/PDB/StructureBuilder.py:89: PDBConstructionWarning: WARNING: Chain D is discontinuous at line 60997.\n",
      "  warnings.warn(\n",
      "/home/sabsr3/.local/lib/python3.8/site-packages/Bio/PDB/StructureBuilder.py:89: PDBConstructionWarning: WARNING: Chain E is discontinuous at line 61024.\n",
      "  warnings.warn(\n",
      "/home/sabsr3/.local/lib/python3.8/site-packages/Bio/PDB/StructureBuilder.py:89: PDBConstructionWarning: WARNING: Chain F is discontinuous at line 61051.\n",
      "  warnings.warn(\n",
      "/home/sabsr3/.local/lib/python3.8/site-packages/Bio/PDB/StructureBuilder.py:89: PDBConstructionWarning: WARNING: Chain G is discontinuous at line 61078.\n",
      "  warnings.warn(\n"
     ]
    },
    {
     "name": "stdout",
     "output_type": "stream",
     "text": [
      "1IGS(27-248)\n",
      "1PHP(176-394)\n",
      "1PHP(1-175)\n",
      "1QOP(Chain A)\n",
      "1SCE(Chain C)\n"
     ]
    },
    {
     "name": "stderr",
     "output_type": "stream",
     "text": [
      "/home/sabsr3/.local/lib/python3.8/site-packages/Bio/PDB/StructureBuilder.py:89: PDBConstructionWarning: WARNING: Chain A is discontinuous at line 10723.\n",
      "  warnings.warn(\n",
      "/home/sabsr3/.local/lib/python3.8/site-packages/Bio/PDB/StructureBuilder.py:89: PDBConstructionWarning: WARNING: Chain B is discontinuous at line 10757.\n",
      "  warnings.warn(\n",
      "/home/sabsr3/.local/lib/python3.8/site-packages/Bio/PDB/StructureBuilder.py:89: PDBConstructionWarning: WARNING: Chain A is discontinuous at line 10789.\n",
      "  warnings.warn(\n",
      "/home/sabsr3/.local/lib/python3.8/site-packages/Bio/PDB/StructureBuilder.py:89: PDBConstructionWarning: WARNING: Chain B is discontinuous at line 11365.\n",
      "  warnings.warn(\n",
      "/home/sabsr3/.local/lib/python3.8/site-packages/Bio/PDB/StructureBuilder.py:89: PDBConstructionWarning: WARNING: Chain B is discontinuous at line 3870.\n",
      "  warnings.warn(\n",
      "/home/sabsr3/.local/lib/python3.8/site-packages/Bio/PDB/StructureBuilder.py:89: PDBConstructionWarning: WARNING: Chain C is discontinuous at line 3872.\n",
      "  warnings.warn(\n",
      "/home/sabsr3/.local/lib/python3.8/site-packages/Bio/PDB/StructureBuilder.py:89: PDBConstructionWarning: WARNING: Chain A is discontinuous at line 3873.\n",
      "  warnings.warn(\n",
      "/home/sabsr3/.local/lib/python3.8/site-packages/Bio/PDB/StructureBuilder.py:89: PDBConstructionWarning: WARNING: Chain B is discontinuous at line 3946.\n",
      "  warnings.warn(\n",
      "/home/sabsr3/.local/lib/python3.8/site-packages/Bio/PDB/StructureBuilder.py:89: PDBConstructionWarning: WARNING: Chain C is discontinuous at line 4023.\n",
      "  warnings.warn(\n",
      "/home/sabsr3/.local/lib/python3.8/site-packages/Bio/PDB/StructureBuilder.py:89: PDBConstructionWarning: WARNING: Chain D is discontinuous at line 4076.\n",
      "  warnings.warn(\n",
      "/home/sabsr3/.local/lib/python3.8/site-packages/Bio/PDB/StructureBuilder.py:89: PDBConstructionWarning: WARNING: Chain A is discontinuous at line 4562.\n",
      "  warnings.warn(\n",
      "/home/sabsr3/.local/lib/python3.8/site-packages/Bio/PDB/StructureBuilder.py:89: PDBConstructionWarning: WARNING: Chain B is discontinuous at line 4563.\n",
      "  warnings.warn(\n",
      "/home/sabsr3/.local/lib/python3.8/site-packages/Bio/PDB/StructureBuilder.py:89: PDBConstructionWarning: WARNING: Chain A is discontinuous at line 4564.\n",
      "  warnings.warn(\n",
      "/home/sabsr3/.local/lib/python3.8/site-packages/Bio/PDB/StructureBuilder.py:89: PDBConstructionWarning: WARNING: Chain B is discontinuous at line 4838.\n",
      "  warnings.warn(\n"
     ]
    },
    {
     "name": "stdout",
     "output_type": "stream",
     "text": [
      "1V9E(Chain A)\n",
      "3H08(Chain A)\n"
     ]
    },
    {
     "name": "stderr",
     "output_type": "stream",
     "text": [
      "/home/sabsr3/.local/lib/python3.8/site-packages/Bio/PDB/StructureBuilder.py:89: PDBConstructionWarning: WARNING: Chain A is discontinuous at line 5204.\n",
      "  warnings.warn(\n",
      "/home/sabsr3/.local/lib/python3.8/site-packages/Bio/PDB/StructureBuilder.py:89: PDBConstructionWarning: WARNING: Chain B is discontinuous at line 5206.\n",
      "  warnings.warn(\n",
      "/home/sabsr3/.local/lib/python3.8/site-packages/Bio/PDB/StructureBuilder.py:89: PDBConstructionWarning: WARNING: Chain A is discontinuous at line 5208.\n",
      "  warnings.warn(\n",
      "/home/sabsr3/.local/lib/python3.8/site-packages/Bio/PDB/StructureBuilder.py:89: PDBConstructionWarning: WARNING: Chain B is discontinuous at line 5418.\n",
      "  warnings.warn(\n"
     ]
    }
   ],
   "source": [
    "io = bpdb.PDBIO()\n",
    "for index, entry in kinetic_data.iterrows():\n",
    "    if not re.match('....\\(.*\\)', entry.pdb):\n",
    "        continue\n",
    "    print(entry.pdb)\n",
    "    pdb = entry.pdb[:4]\n",
    "\n",
    "    chain_regex = '(?P<pdb>....)\\(Chain (?P<chain>.)\\)'\n",
    "    res_regex = '(?P<pdb>....)\\((?P<begin>[0-9]*)-(?P<end>[0-9]*)\\)'\n",
    "    selector = None\n",
    "    if re.match(chain_regex, entry.pdb):\n",
    "        r = re.search(chain_regex, entry.pdb)\n",
    "        selector = ChainSelect(r['chain'])\n",
    "        #print(f\"{r['pdb']} chain {r['chain']}\")\n",
    "    elif re.match(res_regex, entry.pdb):\n",
    "        r = re.search(res_regex, entry.pdb)\n",
    "        selector = ResSelect(r['begin'], r['end'])\n",
    "        #print(f\"{r['pdb']} residues {r['begin']}-{r['end']}\")\n",
    "    \n",
    "    if selector is None:\n",
    "        continue\n",
    "\n",
    "    struct = bpdb.PDBParser().get_structure('tmp', os.path.join('pdb_files_raw', f'{pdb}.pdb'))\n",
    "    io.set_structure(struct)\n",
    "    io.save(os.path.join('pdb_files_raw', f'{entry.pdb}.pdb'), selector)\n"
   ]
  }
 ],
 "metadata": {
  "interpreter": {
   "hash": "31f2aee4e71d21fbe5cf8b01ff0e069b9275f58929596ceb00d14d90e3e16cd6"
  },
  "kernelspec": {
   "display_name": "Python 3.8.10 64-bit",
   "language": "python",
   "name": "python3"
  },
  "language_info": {
   "codemirror_mode": {
    "name": "ipython",
    "version": 3
   },
   "file_extension": ".py",
   "mimetype": "text/x-python",
   "name": "python",
   "nbconvert_exporter": "python",
   "pygments_lexer": "ipython3",
   "version": "3.8.10"
  },
  "orig_nbformat": 4
 },
 "nbformat": 4,
 "nbformat_minor": 2
}
