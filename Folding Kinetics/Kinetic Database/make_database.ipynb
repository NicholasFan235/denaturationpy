{
 "cells": [
  {
   "cell_type": "code",
   "execution_count": 1,
   "metadata": {},
   "outputs": [],
   "source": [
    "import sqlite3\n",
    "con = sqlite3.connect('proteins.db')"
   ]
  },
  {
   "cell_type": "code",
   "execution_count": 2,
   "metadata": {},
   "outputs": [],
   "source": [
    "cur = con.cursor()\n",
    "cur.execute(\"\"\"\n",
    "CREATE TABLE IF NOT EXISTS proteins(\n",
    "    id INTEGER PRIMARY KEY,\n",
    "    name TEXT NOT NULL UNIQUE,\n",
    "    pdb TEXT NOT NULL UNIQUE,\n",
    "    kinetic_state TEXT NOT NULL,\n",
    "    class TEXT NOT NULL,\n",
    "    length INTEGER NOT NULL\n",
    ");\n",
    "\"\"\")\n",
    "\n",
    "cur.execute(\"\"\"\n",
    "CREATE TABLE IF NOT EXISTS experimental_data(\n",
    "    id INTEGER PRIMARY KEY,\n",
    "    protein_id INTEGER NOT NULL,\n",
    "    midpoint REAL NOT NULL,\n",
    "    log_kf REAL NOT NULL,\n",
    "    log_ku REAL NOT NULL,\n",
    "    delta_g REAL NOT NULL,\n",
    "    source TEXT,\n",
    "    FOREIGN KEY (protein_id)\n",
    "        REFERENCES proteins(id)\n",
    ");\n",
    "\"\"\")\n",
    "con.commit()"
   ]
  },
  {
   "cell_type": "code",
   "execution_count": 3,
   "metadata": {},
   "outputs": [],
   "source": [
    "con.close()"
   ]
  }
 ],
 "metadata": {
  "interpreter": {
   "hash": "31f2aee4e71d21fbe5cf8b01ff0e069b9275f58929596ceb00d14d90e3e16cd6"
  },
  "kernelspec": {
   "display_name": "Python 3.8.10 64-bit",
   "language": "python",
   "name": "python3"
  },
  "language_info": {
   "codemirror_mode": {
    "name": "ipython",
    "version": 3
   },
   "file_extension": ".py",
   "mimetype": "text/x-python",
   "name": "python",
   "nbconvert_exporter": "python",
   "pygments_lexer": "ipython3",
   "version": "3.8.10"
  },
  "orig_nbformat": 4
 },
 "nbformat": 4,
 "nbformat_minor": 2
}
