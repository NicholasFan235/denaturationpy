{
 "cells": [
  {
   "cell_type": "code",
   "execution_count": 25,
   "metadata": {},
   "outputs": [],
   "source": [
    "import numpy as np\n",
    "import pandas as pd\n",
    "from scipy.constants import Boltzmann, Planck, gas_constant\n",
    "from scipy.integrate import solve_ivp\n",
    "from plotnine import *"
   ]
  },
  {
   "cell_type": "code",
   "execution_count": 26,
   "metadata": {},
   "outputs": [
    {
     "data": {
      "text/html": [
       "<div>\n",
       "<style scoped>\n",
       "    .dataframe tbody tr th:only-of-type {\n",
       "        vertical-align: middle;\n",
       "    }\n",
       "\n",
       "    .dataframe tbody tr th {\n",
       "        vertical-align: top;\n",
       "    }\n",
       "\n",
       "    .dataframe thead th {\n",
       "        text-align: right;\n",
       "    }\n",
       "</style>\n",
       "<table border=\"1\" class=\"dataframe\">\n",
       "  <thead>\n",
       "    <tr style=\"text-align: right;\">\n",
       "      <th></th>\n",
       "      <th>step</th>\n",
       "      <th>Ea</th>\n",
       "      <th>Tf</th>\n",
       "      <th>dG</th>\n",
       "    </tr>\n",
       "  </thead>\n",
       "  <tbody>\n",
       "    <tr>\n",
       "      <th>0</th>\n",
       "      <td>1</td>\n",
       "      <td>264500</td>\n",
       "      <td>347.6</td>\n",
       "      <td>110900</td>\n",
       "    </tr>\n",
       "    <tr>\n",
       "      <th>1</th>\n",
       "      <td>2</td>\n",
       "      <td>101900</td>\n",
       "      <td>393.1</td>\n",
       "      <td>97900</td>\n",
       "    </tr>\n",
       "    <tr>\n",
       "      <th>2</th>\n",
       "      <td>3</td>\n",
       "      <td>35600</td>\n",
       "      <td>658.7</td>\n",
       "      <td>92800</td>\n",
       "    </tr>\n",
       "  </tbody>\n",
       "</table>\n",
       "</div>"
      ],
      "text/plain": [
       "   step      Ea     Tf      dG\n",
       "0     1  264500  347.6  110900\n",
       "1     2  101900  393.1   97900\n",
       "2     3   35600  658.7   92800"
      ]
     },
     "execution_count": 26,
     "metadata": {},
     "output_type": "execute_result"
    }
   ],
   "source": [
    "data = pd.DataFrame(\n",
    "    [[1, 264500, 347.6, 110900], [2, 101900, 393.1, 97900], [3, 35600, 658.7, 92800]], columns=['step', 'Ea', 'Tf', 'dG'])\n",
    "data"
   ]
  },
  {
   "cell_type": "code",
   "execution_count": 27,
   "metadata": {},
   "outputs": [],
   "source": [
    "def kEyr(dG, T):\n",
    "    return T*Boltzmann/Planck * np.exp(-dG/(gas_constant*T))\n",
    "\n",
    "def kArr(Ea, Tf, T):\n",
    "    return np.exp(Ea/gas_constant * (1/Tf - 1/T))"
   ]
  },
  {
   "cell_type": "code",
   "execution_count": 28,
   "metadata": {},
   "outputs": [
    {
     "data": {
      "text/html": [
       "<div>\n",
       "<style scoped>\n",
       "    .dataframe tbody tr th:only-of-type {\n",
       "        vertical-align: middle;\n",
       "    }\n",
       "\n",
       "    .dataframe tbody tr th {\n",
       "        vertical-align: top;\n",
       "    }\n",
       "\n",
       "    .dataframe thead th {\n",
       "        text-align: right;\n",
       "    }\n",
       "</style>\n",
       "<table border=\"1\" class=\"dataframe\">\n",
       "  <thead>\n",
       "    <tr style=\"text-align: right;\">\n",
       "      <th></th>\n",
       "      <th>step</th>\n",
       "      <th>Ea</th>\n",
       "      <th>Tf</th>\n",
       "      <th>dG</th>\n",
       "      <th>ln_kEyr(25)</th>\n",
       "      <th>ln_kArr(25</th>\n",
       "      <th>k</th>\n",
       "      <th>t1/2 /h</th>\n",
       "    </tr>\n",
       "  </thead>\n",
       "  <tbody>\n",
       "    <tr>\n",
       "      <th>0</th>\n",
       "      <td>1</td>\n",
       "      <td>264500</td>\n",
       "      <td>347.6</td>\n",
       "      <td>110900</td>\n",
       "      <td>-15.302003</td>\n",
       "      <td>-15.232709</td>\n",
       "      <td>2.423922e-07</td>\n",
       "      <td>794.336057</td>\n",
       "    </tr>\n",
       "    <tr>\n",
       "      <th>1</th>\n",
       "      <td>2</td>\n",
       "      <td>101900</td>\n",
       "      <td>393.1</td>\n",
       "      <td>97900</td>\n",
       "      <td>-10.055223</td>\n",
       "      <td>-9.949499</td>\n",
       "      <td>4.775156e-05</td>\n",
       "      <td>4.032138</td>\n",
       "    </tr>\n",
       "    <tr>\n",
       "      <th>2</th>\n",
       "      <td>3</td>\n",
       "      <td>35600</td>\n",
       "      <td>658.7</td>\n",
       "      <td>92800</td>\n",
       "      <td>-7.996870</td>\n",
       "      <td>-7.867885</td>\n",
       "      <td>3.828431e-04</td>\n",
       "      <td>0.502924</td>\n",
       "    </tr>\n",
       "  </tbody>\n",
       "</table>\n",
       "</div>"
      ],
      "text/plain": [
       "   step      Ea     Tf      dG  ln_kEyr(25)  ln_kArr(25             k  \\\n",
       "0     1  264500  347.6  110900   -15.302003  -15.232709  2.423922e-07   \n",
       "1     2  101900  393.1   97900   -10.055223   -9.949499  4.775156e-05   \n",
       "2     3   35600  658.7   92800    -7.996870   -7.867885  3.828431e-04   \n",
       "\n",
       "      t1/2 /h  \n",
       "0  794.336057  \n",
       "1    4.032138  \n",
       "2    0.502924  "
      ]
     },
     "execution_count": 28,
     "metadata": {},
     "output_type": "execute_result"
    }
   ],
   "source": [
    "T = 273+25\n",
    "data['ln_kEyr(25)'] = np.log(kEyr(data['dG'], T))\n",
    "data['ln_kArr(25'] = np.log(kArr(data['Ea'], data['Tf'], T))\n",
    "data['k'] = kArr(data['Ea'], data['Tf'], T)\n",
    "data['t1/2 /h'] = np.log(2)/kArr(data['Ea'], data['Tf'], T) / (60*60)\n",
    "data"
   ]
  },
  {
   "cell_type": "code",
   "execution_count": 29,
   "metadata": {},
   "outputs": [],
   "source": [
    "def rhs(t, y):\n",
    "    r = np.array([\n",
    "        -y[0]*data['k'][0],\n",
    "        y[0]*data['k'][0] - y[1]*data['k'][1],\n",
    "        y[1]*data['k'][1] - y[2]*data['k'][2],\n",
    "        y[2]*data['k'][2]])\n",
    "    return r\n",
    "\n",
    "t_final = 10*60*60\n",
    "sol = solve_ivp(rhs, [0, t_final], [0,0,1,0], method='LSODA', t_eval=np.linspace(0, t_final, 1000))"
   ]
  },
  {
   "cell_type": "code",
   "execution_count": 30,
   "metadata": {},
   "outputs": [
    {
     "data": {
      "image/png": "[encoded data removed]",
      "text/plain": [
       "<Figure size 640x480 with 1 Axes>"
      ]
     },
     "metadata": {},
     "output_type": "display_data"
    },
    {
     "data": {
      "text/plain": [
       "<ggplot: (8746739818698)>"
      ]
     },
     "execution_count": 30,
     "metadata": {},
     "output_type": "execute_result"
    }
   ],
   "source": [
    "s = pd.DataFrame({'t': sol.t/60/60, 'N': sol.y[0,:], 'I': sol.y[1,:], 'D': sol.y[2,:], 'A': sol.y[3,:]})\n",
    "(\n",
    "    ggplot(s[['t', 'I', 'D', 'A']].melt('t'), aes(x='t', y='value', colour='variable')) +\n",
    "    geom_line()\n",
    ")"
   ]
  }
 ],
 "metadata": {
  "interpreter": {
   "hash": "31f2aee4e71d21fbe5cf8b01ff0e069b9275f58929596ceb00d14d90e3e16cd6"
  },
  "kernelspec": {
   "display_name": "Python 3.8.10 64-bit",
   "language": "python",
   "name": "python3"
  },
  "language_info": {
   "codemirror_mode": {
    "name": "ipython",
    "version": 3
   },
   "file_extension": ".py",
   "mimetype": "text/x-python",
   "name": "python",
   "nbconvert_exporter": "python",
   "pygments_lexer": "ipython3",
   "version": "3.8.10"
  },
  "orig_nbformat": 4
 },
 "nbformat": 4,
 "nbformat_minor": 2
}
